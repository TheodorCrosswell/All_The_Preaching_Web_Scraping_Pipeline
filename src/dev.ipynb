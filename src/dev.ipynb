{
 "cells": [
  {
   "cell_type": "code",
   "execution_count": 6,
   "id": "a626647a",
   "metadata": {},
   "outputs": [],
   "source": [
    "# chromadb webvtt-py requests bs4 polars\n",
    "import chromadb\n",
    "import webvtt\n",
    "import requests\n",
    "import time\n",
    "from bs4 import BeautifulSoup\n",
    "import polars as pl\n",
    "from pydantic import BaseModel, Field, TypeAdapter, ValidationError\n",
    "import pytest\n",
    "import web_scraper_helpers as wsh\n",
    "from enum import Enum\n",
    "from typing import Optional\n",
    "import patito as pt"
   ]
  },
  {
   "cell_type": "code",
   "execution_count": null,
   "id": "3530c36d",
   "metadata": {},
   "outputs": [],
   "source": [
    "class PreScrapingDataFrameModel(pt.Model):\n",
    "    video_id: int = pt.Field(unique=True, ge=1)\n",
    "    section: str = pt.Field(min_length=3)\n",
    "    title: str = pt.Field(min_length=3)\n",
    "    video_url: str = pt.Field(\n",
    "        unique=True,\n",
    "        pattern=r\"^https://allthepreaching.com/pages/video.php\\?id=\\d{7}$\",\n",
    "    )  # this may break when the site gets updated, since the new way is just \"/video/...\" instead of \"https:/.../video/...\"\n",
    "    fail_reasons: str = pt.Field(allow_missing=True)\n",
    "\n",
    "\n",
    "class CleanTranscriptDataFrameModel(pt.Model):\n",
    "    video_id: int = pt.Field(unique=True, ge=1)\n",
    "    section: str = pt.Field()\n",
    "    title: str = pt.Field\n",
    "    preacher: str = pt.Field\n",
    "    video_url: str = pt.Field(\n",
    "        unique=True,\n",
    "        pattern=r\"^https://allthepreaching.com/pages/video.php\\?id=\\d{7}$\",\n",
    "    )  # this may break when the site gets updated, since the new way is just \"/video/...\" instead of \"https:/.../video/...\"\n",
    "    mp4_url: str = pt.Field(\n",
    "        unique=True,\n",
    "        pattern=r\"https://www.kjv1611only.com/video/\\w+/\\w+/\\w+.mp4\",\n",
    "    )\n",
    "    mp3_url: str = pt.Field(\n",
    "        unique=True,\n",
    "        pattern=r\"https://www.kjv1611only.com/video/\\w+/\\w+/\\w+.mp3\",\n",
    "        derived_from=(pl.col(\"mp4_url\").str.replace(\"mp4\", \"mp3\"))\n",
    "    )\n",
    "    vtt_url: str = pt.Field(\n",
    "        unique=True,\n",
    "        pattern=r\"https://www.kjv1611only.com/video/\\w+/\\w+/\\w+.vtt\",\n",
    "        derived_from=(pl.col(\"mp4_url\").str.replace(\"mp4\", \"vtt\")),\n",
    "    )\n",
    "    # txt_url: str = pt.Field() # Currently, vtt_to_txt.php is not available on ATP, so this field is unused\n",
    "    transcript: str = pt.Field(unique=True, min_length=50)\n",
    "    fail_reasons: Optional[list[str]]\n",
    "\n",
    "# class ChunkedRecord(pt.Model):\n",
    "#     chunk: str = pt.Field(min_length=5)\n",
    "#     pass"
   ]
  },
  {
   "cell_type": "code",
   "execution_count": 8,
   "id": "1e148657",
   "metadata": {},
   "outputs": [
    {
     "name": "stdout",
     "output_type": "stream",
     "text": [
      "50\n",
      "149\n",
      "198\n",
      "17057\n",
      "{'section': 'salvation', 'title': '360 video', 'raw_video_url': 'video.php?id=8466772'}\n"
     ]
    }
   ],
   "source": [
    "# all_links = wsh.get_records_from_archive_url()\n",
    "test_links_1 = wsh.get_records_from_html_file(\n",
    "    r\"C:\\repos\\All_The_Preaching_Web_Scraping_Pipeline\\data\\test_archive_1.html\"\n",
    ")\n",
    "test_links_2 = wsh.get_records_from_html_file(\n",
    "    r\"C:\\repos\\All_The_Preaching_Web_Scraping_Pipeline\\data\\test_archive_2.html\"\n",
    ")\n",
    "test_links_3 = wsh.get_records_from_html_file(\n",
    "    r\"C:\\repos\\All_The_Preaching_Web_Scraping_Pipeline\\data\\test_archive_3.html\"\n",
    ")\n",
    "print(len(test_links_1))\n",
    "print(len(test_links_2))\n",
    "print(len(test_links_3))\n",
    "\n",
    "test_links_all = wsh.get_records_from_html_file(\n",
    "    r\"C:\\repos\\All_The_Preaching_Web_Scraping_Pipeline\\data\\atp_archive_2025-07-07.html\"\n",
    ")\n",
    "print(len(test_links_all))\n",
    "print(test_links_all[0])"
   ]
  },
  {
   "cell_type": "code",
   "execution_count": 24,
   "id": "03550737",
   "metadata": {},
   "outputs": [
    {
     "name": "stdout",
     "output_type": "stream",
     "text": [
      "shape: (50, 4)\n",
      "┌─────────────────────────┬──────────────────────────────┬──────────┬──────────────────────────────┐\n",
      "│ section                 ┆ title                        ┆ video_id ┆ video_url                    │\n",
      "│ ---                     ┆ ---                          ┆ ---      ┆ ---                          │\n",
      "│ str                     ┆ str                          ┆ i64      ┆ str                          │\n",
      "╞═════════════════════════╪══════════════════════════════╪══════════╪══════════════════════════════╡\n",
      "│ sermonsbro. dillon awes ┆ 1 samuel 1                   ┆ 6020540  ┆ https://allthepreaching.com/ │\n",
      "│                         ┆                              ┆          ┆ pa…                          │\n",
      "│ sermonsbro. dillon awes ┆ 1 samuel 2                   ┆ 5509588  ┆ https://allthepreaching.com/ │\n",
      "│                         ┆                              ┆          ┆ pa…                          │\n",
      "│ sermonsbro. dillon awes ┆ 1 samuel 3                   ┆ 8266638  ┆ https://allthepreaching.com/ │\n",
      "│                         ┆                              ┆          ┆ pa…                          │\n",
      "│ sermonsbro. dillon awes ┆ 1 samuel 4                   ┆ 3782173  ┆ https://allthepreaching.com/ │\n",
      "│                         ┆                              ┆          ┆ pa…                          │\n",
      "│ sermonsbro. dillon awes ┆ 1 samuel 5                   ┆ 3707830  ┆ https://allthepreaching.com/ │\n",
      "│                         ┆                              ┆          ┆ pa…                          │\n",
      "│ …                       ┆ …                            ┆ …        ┆ …                            │\n",
      "│ sermonsbro. dillon awes ┆ children are a blessing      ┆ 3086138  ┆ https://allthepreaching.com/ │\n",
      "│                         ┆                              ┆          ┆ pa…                          │\n",
      "│ sermonsbro. dillon awes ┆ christianity is a team sport ┆ 5921068  ┆ https://allthepreaching.com/ │\n",
      "│                         ┆                              ┆          ┆ pa…                          │\n",
      "│ sermonsbro. dillon awes ┆ dangers of trusting in       ┆ 2811675  ┆ https://allthepreaching.com/ │\n",
      "│                         ┆ riches                       ┆          ┆ pa…                          │\n",
      "│ sermonsbro. dillon awes ┆ dealing with people out soul ┆ 3221665  ┆ https://allthepreaching.com/ │\n",
      "│                         ┆ w…                           ┆          ┆ pa…                          │\n",
      "│ sermonsbro. dillon awes ┆ debunking reformed theology  ┆ 2798749  ┆ https://allthepreaching.com/ │\n",
      "│                         ┆                              ┆          ┆ pa…                          │\n",
      "└─────────────────────────┴──────────────────────────────┴──────────┴──────────────────────────────┘\n"
     ]
    }
   ],
   "source": [
    "df = (\n",
    "    PreScrapingDataFrameModel.DataFrame(test_links_1)\n",
    "    .lazy()\n",
    "    .with_columns(\n",
    "        pl.col(\"raw_video_url\")\n",
    "        .str.extract(\n",
    "            r\"id=(\\d+)\", 1\n",
    "        )  # This regex looks for 'id=' followed by one or more digits (\\d+)\n",
    "        .cast(int)\n",
    "        .alias(\"video_id\")\n",
    "    )\n",
    "    .with_columns(\n",
    "        (\n",
    "            pl.lit(\"https://allthepreaching.com/pages/video.php?id=\")\n",
    "            + pl.col(\"video_id\").cast(str).alias(\"video_url\")\n",
    "        ).alias(\"video_url\")\n",
    "    )\n",
    "    .drop(\"raw_video_url\")\n",
    "    .collect()\n",
    ")\n",
    "print(df)\n",
    "try:\n",
    "    df.validate()\n",
    "except pt.DataFrameValidationError as e:\n",
    "    print(e)\n",
    "    raise(e)"
   ]
  }
 ],
 "metadata": {
  "kernelspec": {
   "display_name": ".venv",
   "language": "python",
   "name": "python3"
  },
  "language_info": {
   "codemirror_mode": {
    "name": "ipython",
    "version": 3
   },
   "file_extension": ".py",
   "mimetype": "text/x-python",
   "name": "python",
   "nbconvert_exporter": "python",
   "pygments_lexer": "ipython3",
   "version": "3.13.5"
  }
 },
 "nbformat": 4,
 "nbformat_minor": 5
}
