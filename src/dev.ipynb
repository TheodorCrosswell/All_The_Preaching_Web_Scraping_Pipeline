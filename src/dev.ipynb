{
 "cells": [
  {
   "cell_type": "code",
   "execution_count": 1,
   "id": "a626647a",
   "metadata": {},
   "outputs": [
    {
     "data": {
      "text/plain": [
       "<polars.config.Config at 0x137eba79450>"
      ]
     },
     "execution_count": 1,
     "metadata": {},
     "output_type": "execute_result"
    }
   ],
   "source": [
    "import chromadb\n",
    "import webvtt\n",
    "import requests\n",
    "import time\n",
    "from bs4 import BeautifulSoup\n",
    "import polars as pl\n",
    "import patito as pt\n",
    "from pydantic import BaseModel, Field, TypeAdapter, ValidationError\n",
    "import pytest\n",
    "import helpers \n",
    "from enum import Enum\n",
    "from typing import Optional\n",
    "from tqdm import tqdm\n",
    "from config import *\n",
    "\n",
    "pl.Config(tbl_cols=-1)\n",
    "pl.Config(set_tbl_width_chars=300)"
   ]
  },
  {
   "cell_type": "code",
   "execution_count": 2,
   "id": "68d39ed5",
   "metadata": {},
   "outputs": [
    {
     "name": "stdout",
     "output_type": "stream",
     "text": [
      "2 validation errors for PreScrapingDataFrameModel\n",
      "video_id\n",
      "  28 rows with duplicated values. (type=value_error.rowvalue)\n",
      "video_url\n",
      "  28 rows with duplicated values. (type=value_error.rowvalue)\n",
      "15962\n",
      "16300\n",
      "shape: (15_962, 5)\n",
      "┌──────────┬─────────────────────────────────┬─────────────────────────┬─────────────────────────────────┬─────────────────────────────────┐\n",
      "│ video_id ┆ section                         ┆ preacher                ┆ title                           ┆ video_url                       │\n",
      "│ ---      ┆ ---                             ┆ ---                     ┆ ---                             ┆ ---                             │\n",
      "│ i64      ┆ str                             ┆ str                     ┆ str                             ┆ str                             │\n",
      "╞══════════╪═════════════════════════════════╪═════════════════════════╪═════════════════════════════════╪═════════════════════════════════╡\n",
      "│ 3594425  ┆ fbbf 2019                       ┆ pastor steven anderson  ┆ pastor steven anderson fbbf 20… ┆ https://allthepreaching.com/pa… │\n",
      "│ 6246316  ┆ fbbf 2019                       ┆ pastor roger jimenez    ┆ pastor roger jimenez fbbf 2019  ┆ https://allthepreaching.com/pa… │\n",
      "│ 5330181  ┆ fbbf 2019                       ┆ pastor jonathan shelley ┆ pastor jonathan shelley fbbf 2… ┆ https://allthepreaching.com/pa… │\n",
      "│ 1654735  ┆ fbbf 2021                       ┆ pastor roger jimenez    ┆ pastor roger jimenez fbbf 2021  ┆ https://allthepreaching.com/pa… │\n",
      "│ 7103863  ┆ fbbf 2021                       ┆ pastor bruce mejia      ┆ pastor bruce mejia fbbf 2021    ┆ https://allthepreaching.com/pa… │\n",
      "│ …        ┆ …                               ┆ …                       ┆ …                               ┆ …                               │\n",
      "│ 2964609  ┆ sermon clips pastor matthew st… ┆ pastor matthew stucky   ┆ what you see impacts you more … ┆ https://allthepreaching.com/pa… │\n",
      "│ 1491228  ┆ sermon clips pastor matthew st… ┆ pastor matthew stucky   ┆ when pastor stucky was called … ┆ https://allthepreaching.com/pa… │\n",
      "│ 7679623  ┆ sermon clips pastor matthew st… ┆ pastor matthew stucky   ┆ when the devils global empire … ┆ https://allthepreaching.com/pa… │\n",
      "│ 6792948  ┆ sermon clips pastor matthew st… ┆ pastor matthew stucky   ┆ when you ran away with god      ┆ https://allthepreaching.com/pa… │\n",
      "│ 1504290  ┆ sermon clips pastor matthew st… ┆ pastor matthew stucky   ┆ where did god come from         ┆ https://allthepreaching.com/pa… │\n",
      "└──────────┴─────────────────────────────────┴─────────────────────────┴─────────────────────────────────┴─────────────────────────────────┘\n"
     ]
    }
   ],
   "source": [
    "df_old = pl.read_csv(r\"C:\\repos\\ATP_AI_Answers\\data\\atp_web_scraping\\transcript.csv\")\n",
    "df_old = helpers.get_pre_scraping_df(df_old)\n",
    "\n",
    "print(len(df_old))\n",
    "\n",
    "scraped_records = helpers.get_records_from_html_file(\n",
    "    r\"C:\\repos\\All_The_Preaching_Web_Scraping_Pipeline\\data\\atp_archive_2025-07-07.html\"\n",
    ")\n",
    "df_new = helpers.get_pre_scraping_df(scraped_records)\n",
    "print(len(df_new))\n",
    "\n",
    "df_diff = df_old.join(df_new, \"video_id\", \"left\", coalesce=False)\n",
    "\n",
    "df_diff = df_diff.with_columns(\n",
    "    [\n",
    "        pl.coalesce(pl.col(\"video_id_right\"), pl.col(\"video_id\")).alias(\"video_id\"),\n",
    "        pl.coalesce(pl.col(\"section_right\"), pl.col(\"section\")).alias(\"section\"),\n",
    "        pl.coalesce(pl.col(\"preacher_right\"), pl.col(\"preacher\")).alias(\"preacher\"),\n",
    "        pl.coalesce(pl.col(\"title_right\"), pl.col(\"title\")).alias(\"title\"),\n",
    "        pl.coalesce(pl.col(\"video_url_right\"), pl.col(\"video_url\")).alias(\"video_url\"),\n",
    "    ]\n",
    ").drop(\n",
    "    [\n",
    "        \"video_id_right\",\n",
    "        \"section_right\",\n",
    "        \"preacher_right\",\n",
    "        \"title_right\",\n",
    "        \"video_url_right\",\n",
    "    ]\n",
    ")\n",
    "with pl.Config(tbl_cols=-1) and pl.Config(set_tbl_width_chars=200):\n",
    "    print(df_diff)"
   ]
  },
  {
   "cell_type": "code",
   "execution_count": 3,
   "id": "48d643ec",
   "metadata": {},
   "outputs": [],
   "source": [
    "df_diff = df_diff.unique(subset=[\"preacher\"]).sort(by=pl.col(\"preacher\"))\n",
    "\n",
    "df_diff.write_csv(\n",
    "    r\"C:\\repos\\All_The_Preaching_Web_Scraping_Pipeline\\data\\metadata_check.csv\"\n",
    ")"
   ]
  },
  {
   "cell_type": "code",
   "execution_count": 4,
   "id": "146bbef0",
   "metadata": {},
   "outputs": [],
   "source": [
    "# import json\n",
    "# from chromadb import QueryResult, PersistentClient, Settings\n",
    "# import numpy as np\n",
    "# import os\n",
    "\n",
    "# # --- ChromaDB Client Setup ---\n",
    "# # This code runs ONCE when the server starts.\n",
    "# # Construct the path to the database directory at the project root.\n",
    "# # This makes the path independent of where the script is run from.\n",
    "\n",
    "# # project_root = os.path.dirname(os.path.dirname(os.path.abspath(__file__)))\n",
    "# # chroma_db_path = os.path.join(project_root, \".chroma\")\n",
    "\n",
    "# chroma_db_path = r\"C:\\repos\\All_The_Preaching_Web_Scraping_Pipeline\\.chroma\" #temporary while using notebook\n",
    "\n",
    "# client = PersistentClient(\n",
    "#     path=chroma_db_path,\n",
    "#     settings=Settings(\n",
    "#         is_persistent=True,\n",
    "#         persist_directory=chroma_db_path,\n",
    "#         anonymized_telemetry=False,\n",
    "#     ),\n",
    "# )\n",
    "\n",
    "# transcript_collection = client.get_or_create_collection(name=\"atp_transcripts\")\n",
    "# chunk_collection = client.get_or_create_collection(name=\"atp_chunks\")"
   ]
  }
 ],
 "metadata": {
  "kernelspec": {
   "display_name": ".venv",
   "language": "python",
   "name": "python3"
  },
  "language_info": {
   "codemirror_mode": {
    "name": "ipython",
    "version": 3
   },
   "file_extension": ".py",
   "mimetype": "text/x-python",
   "name": "python",
   "nbconvert_exporter": "python",
   "pygments_lexer": "ipython3",
   "version": "3.13.5"
  }
 },
 "nbformat": 4,
 "nbformat_minor": 5
}
